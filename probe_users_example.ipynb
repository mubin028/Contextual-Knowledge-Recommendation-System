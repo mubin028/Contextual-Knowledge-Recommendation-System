{
 "cells": [
  {
   "cell_type": "code",
   "execution_count": 2,
   "metadata": {},
   "outputs": [
    {
     "name": "stdout",
     "output_type": "stream",
     "text": [
      "Responses:\n",
      "    Question: What is your age?\n",
      "    Answer: 23\n",
      "    Question: What is your gender? [m/f]\n",
      "    Answer: m\n",
      "    Question: What genres are you interested in?\n",
      "    Answer: History\n",
      "    Question: Are you open to other genres? [y/n]\n",
      "    Answer: y\n"
     ]
    }
   ],
   "source": [
    "#Imports\n",
    "from user_questions import *\n",
    "from IPython.display import clear_output\n",
    "\n",
    "#Questions\n",
    "#Defined questions\n",
    "\n",
    "#Methods\n",
    "\n",
    "#Get a valid response to all questions from the user\n",
    "def ask_user(question_list):\n",
    "    responses = []\n",
    "    for question in question_list:\n",
    "        invalid = True #invalid response, keep looping til we get valid\n",
    "        while(invalid):\n",
    "            response = input(question.question)\n",
    "            if question.constraint(response):\n",
    "                clear_output(wait=True)\n",
    "                responses.append(response)\n",
    "                invalid = False #valid response\n",
    "            else:\n",
    "                print(f\"Invalid response: {question.msg}\")\n",
    "    return responses\n",
    "\n",
    "#Example on how to handle the user responses\n",
    "def print_responses(question_list, user_responses):\n",
    "    print(\"Responses:\")\n",
    "    for i in range(len(user_responses)):\n",
    "        print(f\"    Question: {question_list[i].question}\")\n",
    "        print(f\"    Answer: {user_responses[i]}\")\n",
    "\n",
    "#Driver code:\n",
    "question_list = Question.question_list #All of our question objects, defined in user_questions.py\n",
    "user_responses = ask_user(question_list) #store our responses here ***\n",
    "print_responses(question_list, user_responses)\n",
    "\n"
   ]
  }
 ],
 "metadata": {
  "kernelspec": {
   "display_name": "Python 3",
   "language": "python",
   "name": "python3"
  },
  "language_info": {
   "codemirror_mode": {
    "name": "ipython",
    "version": 3
   },
   "file_extension": ".py",
   "mimetype": "text/x-python",
   "name": "python",
   "nbconvert_exporter": "python",
   "pygments_lexer": "ipython3",
   "version": "3.9.13"
  }
 },
 "nbformat": 4,
 "nbformat_minor": 2
}
